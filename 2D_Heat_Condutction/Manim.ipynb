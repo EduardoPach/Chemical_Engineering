{
 "cells": [
  {
   "cell_type": "code",
   "execution_count": 1,
   "metadata": {},
   "outputs": [],
   "source": [
    "from manim import *\n",
    "import numpy as np"
   ]
  },
  {
   "cell_type": "code",
   "execution_count": 8,
   "metadata": {
    "scrolled": false
   },
   "outputs": [
    {
     "data": {
      "text/html": [
       "<pre style=\"white-space:pre;overflow-x:auto;line-height:normal;font-family:Menlo,'DejaVu Sans Mono',consolas,'Courier New',monospace\"><span style=\"color: #7fbfbf\">[03/24/21 18:33:10] </span><span style=\"color: #008000\">INFO</span>     Animation <span style=\"color: #008000\">0</span> : Using cached data <span style=\"font-weight: bold\">(</span>hash :            <a href=\"file://C:\\Users\\acer\\anaconda\\envs\\EnvEduardo\\lib\\site-packages\\manim\\utils\\caching.py\"><span style=\"color: #7f7f7f\">caching.py</span></a><span style=\"color: #7f7f7f\">:41</span>\n",
       "                             450974505_3042295472_4130479918<span style=\"font-weight: bold\">)</span>                                \n",
       "</pre>\n"
      ],
      "text/plain": [
       "<rich.jupyter.JupyterRenderable at 0x21e7529ff98>"
      ]
     },
     "metadata": {},
     "output_type": "display_data"
    },
    {
     "name": "stderr",
     "output_type": "stream",
     "text": [
      "                                                                                                                       \r"
     ]
    },
    {
     "data": {
      "text/html": [
       "<pre style=\"white-space:pre;overflow-x:auto;line-height:normal;font-family:Menlo,'DejaVu Sans Mono',consolas,'Courier New',monospace\"><span style=\"color: #7fbfbf\">[03/24/21 18:33:12] </span><span style=\"color: #008000\">INFO</span>     Animation <span style=\"color: #008000\">1</span> : Partial movie file        <a href=\"file://C:\\Users\\acer\\anaconda\\envs\\EnvEduardo\\lib\\site-packages\\manim\\scene\\scene_file_writer.py\"><span style=\"color: #7f7f7f\">scene_file_writer.py</span></a><span style=\"color: #7f7f7f\">:384</span>\n",
       "                             written in <span style=\"font-weight: bold\">{</span><span style=\"color: #008000\">'C:\\\\Users\\\\acer\\\\anaconda\\</span>                         \n",
       "                             <span style=\"color: #008000\">\\Notebook\\\\GitHub\\\\2D Heat </span>                                     \n",
       "                             <span style=\"color: #008000\">Conduction\\\\media\\\\videos\\\\2D Heat Cond</span>                         \n",
       "                             <span style=\"color: #008000\">uction\\\\1080p60\\\\partial_movie_files\\\\P</span>                         \n",
       "                             <span style=\"color: #008000\">ointMovingOnShapes\\\\2788726626_14989149</span>                         \n",
       "                             <span style=\"color: #008000\">55_3364732345.mp4'</span><span style=\"font-weight: bold\">}</span>                                             \n",
       "</pre>\n"
      ],
      "text/plain": [
       "<rich.jupyter.JupyterRenderable at 0x21e7576ecc0>"
      ]
     },
     "metadata": {},
     "output_type": "display_data"
    },
    {
     "name": "stderr",
     "output_type": "stream",
     "text": [
      "                                                                                                                       \r"
     ]
    },
    {
     "data": {
      "text/html": [
       "<pre style=\"white-space:pre;overflow-x:auto;line-height:normal;font-family:Menlo,'DejaVu Sans Mono',consolas,'Courier New',monospace\"><span style=\"color: #7fbfbf\">[03/24/21 18:33:13] </span><span style=\"color: #008000\">INFO</span>     Animation <span style=\"color: #008000\">2</span> : Partial movie file        <a href=\"file://C:\\Users\\acer\\anaconda\\envs\\EnvEduardo\\lib\\site-packages\\manim\\scene\\scene_file_writer.py\"><span style=\"color: #7f7f7f\">scene_file_writer.py</span></a><span style=\"color: #7f7f7f\">:384</span>\n",
       "                             written in <span style=\"font-weight: bold\">{</span><span style=\"color: #008000\">'C:\\\\Users\\\\acer\\\\anaconda\\</span>                         \n",
       "                             <span style=\"color: #008000\">\\Notebook\\\\GitHub\\\\2D Heat </span>                                     \n",
       "                             <span style=\"color: #008000\">Conduction\\\\media\\\\videos\\\\2D Heat Cond</span>                         \n",
       "                             <span style=\"color: #008000\">uction\\\\1080p60\\\\partial_movie_files\\\\P</span>                         \n",
       "                             <span style=\"color: #008000\">ointMovingOnShapes\\\\2788726626_20625975</span>                         \n",
       "                             <span style=\"color: #008000\">42_1208799562.mp4'</span><span style=\"font-weight: bold\">}</span>                                             \n",
       "</pre>\n"
      ],
      "text/plain": [
       "<rich.jupyter.JupyterRenderable at 0x21e715c2d30>"
      ]
     },
     "metadata": {},
     "output_type": "display_data"
    },
    {
     "name": "stderr",
     "output_type": "stream",
     "text": [
      "                                                                                                                       \r"
     ]
    },
    {
     "data": {
      "text/html": [
       "<pre style=\"white-space:pre;overflow-x:auto;line-height:normal;font-family:Menlo,'DejaVu Sans Mono',consolas,'Courier New',monospace\"><span style=\"color: #7fbfbf\">[03/24/21 18:33:14] </span><span style=\"color: #008000\">INFO</span>     Animation <span style=\"color: #008000\">3</span> : Partial movie file        <a href=\"file://C:\\Users\\acer\\anaconda\\envs\\EnvEduardo\\lib\\site-packages\\manim\\scene\\scene_file_writer.py\"><span style=\"color: #7f7f7f\">scene_file_writer.py</span></a><span style=\"color: #7f7f7f\">:384</span>\n",
       "                             written in <span style=\"font-weight: bold\">{</span><span style=\"color: #008000\">'C:\\\\Users\\\\acer\\\\anaconda\\</span>                         \n",
       "                             <span style=\"color: #008000\">\\Notebook\\\\GitHub\\\\2D Heat </span>                                     \n",
       "                             <span style=\"color: #008000\">Conduction\\\\media\\\\videos\\\\2D Heat Cond</span>                         \n",
       "                             <span style=\"color: #008000\">uction\\\\1080p60\\\\partial_movie_files\\\\P</span>                         \n",
       "                             <span style=\"color: #008000\">ointMovingOnShapes\\\\2788726626_35230607</span>                         \n",
       "                             <span style=\"color: #008000\">96_2794969854.mp4'</span><span style=\"font-weight: bold\">}</span>                                             \n",
       "</pre>\n"
      ],
      "text/plain": [
       "<rich.jupyter.JupyterRenderable at 0x21e75692630>"
      ]
     },
     "metadata": {},
     "output_type": "display_data"
    },
    {
     "name": "stderr",
     "output_type": "stream",
     "text": [
      "                                                                                                                       \r"
     ]
    },
    {
     "data": {
      "text/html": [
       "<pre style=\"white-space:pre;overflow-x:auto;line-height:normal;font-family:Menlo,'DejaVu Sans Mono',consolas,'Courier New',monospace\"><span style=\"color: #7fbfbf\">[03/24/21 18:33:16] </span><span style=\"color: #008000\">INFO</span>     Animation <span style=\"color: #008000\">4</span> : Partial movie file        <a href=\"file://C:\\Users\\acer\\anaconda\\envs\\EnvEduardo\\lib\\site-packages\\manim\\scene\\scene_file_writer.py\"><span style=\"color: #7f7f7f\">scene_file_writer.py</span></a><span style=\"color: #7f7f7f\">:384</span>\n",
       "                             written in <span style=\"font-weight: bold\">{</span><span style=\"color: #008000\">'C:\\\\Users\\\\acer\\\\anaconda\\</span>                         \n",
       "                             <span style=\"color: #008000\">\\Notebook\\\\GitHub\\\\2D Heat </span>                                     \n",
       "                             <span style=\"color: #008000\">Conduction\\\\media\\\\videos\\\\2D Heat Cond</span>                         \n",
       "                             <span style=\"color: #008000\">uction\\\\1080p60\\\\partial_movie_files\\\\P</span>                         \n",
       "                             <span style=\"color: #008000\">ointMovingOnShapes\\\\2788726626_11985833</span>                         \n",
       "                             <span style=\"color: #008000\">21_1829982422.mp4'</span><span style=\"font-weight: bold\">}</span>                                             \n",
       "</pre>\n"
      ],
      "text/plain": [
       "<rich.jupyter.JupyterRenderable at 0x21e7576e7f0>"
      ]
     },
     "metadata": {},
     "output_type": "display_data"
    },
    {
     "name": "stderr",
     "output_type": "stream",
     "text": [
      "                                                                                                                       \r"
     ]
    },
    {
     "data": {
      "text/html": [
       "<pre style=\"white-space:pre;overflow-x:auto;line-height:normal;font-family:Menlo,'DejaVu Sans Mono',consolas,'Courier New',monospace\"><span style=\"color: #7fbfbf\">[03/24/21 18:33:17] </span><span style=\"color: #008000\">INFO</span>     Animation <span style=\"color: #008000\">5</span> : Partial movie file        <a href=\"file://C:\\Users\\acer\\anaconda\\envs\\EnvEduardo\\lib\\site-packages\\manim\\scene\\scene_file_writer.py\"><span style=\"color: #7f7f7f\">scene_file_writer.py</span></a><span style=\"color: #7f7f7f\">:384</span>\n",
       "                             written in <span style=\"font-weight: bold\">{</span><span style=\"color: #008000\">'C:\\\\Users\\\\acer\\\\anaconda\\</span>                         \n",
       "                             <span style=\"color: #008000\">\\Notebook\\\\GitHub\\\\2D Heat </span>                                     \n",
       "                             <span style=\"color: #008000\">Conduction\\\\media\\\\videos\\\\2D Heat Cond</span>                         \n",
       "                             <span style=\"color: #008000\">uction\\\\1080p60\\\\partial_movie_files\\\\P</span>                         \n",
       "                             <span style=\"color: #008000\">ointMovingOnShapes\\\\2788726626_35456614</span>                         \n",
       "                             <span style=\"color: #008000\">30_4013852867.mp4'</span><span style=\"font-weight: bold\">}</span>                                             \n",
       "</pre>\n"
      ],
      "text/plain": [
       "<rich.jupyter.JupyterRenderable at 0x21e75594668>"
      ]
     },
     "metadata": {},
     "output_type": "display_data"
    },
    {
     "name": "stderr",
     "output_type": "stream",
     "text": [
      "                                                                                                                       \r"
     ]
    },
    {
     "data": {
      "text/html": [
       "<pre style=\"white-space:pre;overflow-x:auto;line-height:normal;font-family:Menlo,'DejaVu Sans Mono',consolas,'Courier New',monospace\"><span style=\"color: #7fbfbf\">[03/24/21 18:33:18] </span><span style=\"color: #008000\">INFO</span>     Animation <span style=\"color: #008000\">6</span> : Partial movie file        <a href=\"file://C:\\Users\\acer\\anaconda\\envs\\EnvEduardo\\lib\\site-packages\\manim\\scene\\scene_file_writer.py\"><span style=\"color: #7f7f7f\">scene_file_writer.py</span></a><span style=\"color: #7f7f7f\">:384</span>\n",
       "                             written in <span style=\"font-weight: bold\">{</span><span style=\"color: #008000\">'C:\\\\Users\\\\acer\\\\anaconda\\</span>                         \n",
       "                             <span style=\"color: #008000\">\\Notebook\\\\GitHub\\\\2D Heat </span>                                     \n",
       "                             <span style=\"color: #008000\">Conduction\\\\media\\\\videos\\\\2D Heat Cond</span>                         \n",
       "                             <span style=\"color: #008000\">uction\\\\1080p60\\\\partial_movie_files\\\\P</span>                         \n",
       "                             <span style=\"color: #008000\">ointMovingOnShapes\\\\2788726626_40609617</span>                         \n",
       "                             <span style=\"color: #008000\">4_255746659.mp4'</span><span style=\"font-weight: bold\">}</span>                                               \n",
       "</pre>\n"
      ],
      "text/plain": [
       "<rich.jupyter.JupyterRenderable at 0x21e75594940>"
      ]
     },
     "metadata": {},
     "output_type": "display_data"
    },
    {
     "name": "stderr",
     "output_type": "stream",
     "text": [
      "                                                                                                                       \r"
     ]
    },
    {
     "data": {
      "text/html": [
       "<pre style=\"white-space:pre;overflow-x:auto;line-height:normal;font-family:Menlo,'DejaVu Sans Mono',consolas,'Courier New',monospace\"><span style=\"color: #7fbfbf\">[03/24/21 18:33:20] </span><span style=\"color: #008000\">INFO</span>     Animation <span style=\"color: #008000\">7</span> : Partial movie file        <a href=\"file://C:\\Users\\acer\\anaconda\\envs\\EnvEduardo\\lib\\site-packages\\manim\\scene\\scene_file_writer.py\"><span style=\"color: #7f7f7f\">scene_file_writer.py</span></a><span style=\"color: #7f7f7f\">:384</span>\n",
       "                             written in <span style=\"font-weight: bold\">{</span><span style=\"color: #008000\">'C:\\\\Users\\\\acer\\\\anaconda\\</span>                         \n",
       "                             <span style=\"color: #008000\">\\Notebook\\\\GitHub\\\\2D Heat </span>                                     \n",
       "                             <span style=\"color: #008000\">Conduction\\\\media\\\\videos\\\\2D Heat Cond</span>                         \n",
       "                             <span style=\"color: #008000\">uction\\\\1080p60\\\\partial_movie_files\\\\P</span>                         \n",
       "                             <span style=\"color: #008000\">ointMovingOnShapes\\\\2788726626_20094728</span>                         \n",
       "                             <span style=\"color: #008000\">53_2436044347.mp4'</span><span style=\"font-weight: bold\">}</span>                                             \n",
       "</pre>\n"
      ],
      "text/plain": [
       "<rich.jupyter.JupyterRenderable at 0x21e75c277f0>"
      ]
     },
     "metadata": {},
     "output_type": "display_data"
    },
    {
     "name": "stderr",
     "output_type": "stream",
     "text": [
      "                                                                                                                       \r"
     ]
    },
    {
     "data": {
      "text/html": [
       "<pre style=\"white-space:pre;overflow-x:auto;line-height:normal;font-family:Menlo,'DejaVu Sans Mono',consolas,'Courier New',monospace\"><span style=\"color: #7fbfbf\">[03/24/21 18:33:21] </span><span style=\"color: #008000\">INFO</span>     Animation <span style=\"color: #008000\">8</span> : Partial movie file        <a href=\"file://C:\\Users\\acer\\anaconda\\envs\\EnvEduardo\\lib\\site-packages\\manim\\scene\\scene_file_writer.py\"><span style=\"color: #7f7f7f\">scene_file_writer.py</span></a><span style=\"color: #7f7f7f\">:384</span>\n",
       "                             written in <span style=\"font-weight: bold\">{</span><span style=\"color: #008000\">'C:\\\\Users\\\\acer\\\\anaconda\\</span>                         \n",
       "                             <span style=\"color: #008000\">\\Notebook\\\\GitHub\\\\2D Heat </span>                                     \n",
       "                             <span style=\"color: #008000\">Conduction\\\\media\\\\videos\\\\2D Heat Cond</span>                         \n",
       "                             <span style=\"color: #008000\">uction\\\\1080p60\\\\partial_movie_files\\\\P</span>                         \n",
       "                             <span style=\"color: #008000\">ointMovingOnShapes\\\\2788726626_70316291</span>                         \n",
       "                             <span style=\"color: #008000\">9_1262874534.mp4'</span><span style=\"font-weight: bold\">}</span>                                              \n",
       "</pre>\n"
      ],
      "text/plain": [
       "<rich.jupyter.JupyterRenderable at 0x21e71c88ba8>"
      ]
     },
     "metadata": {},
     "output_type": "display_data"
    },
    {
     "name": "stderr",
     "output_type": "stream",
     "text": [
      "                                                                                                                       \r"
     ]
    },
    {
     "data": {
      "text/html": [
       "<pre style=\"white-space:pre;overflow-x:auto;line-height:normal;font-family:Menlo,'DejaVu Sans Mono',consolas,'Courier New',monospace\"><span style=\"color: #7fbfbf\">[03/24/21 18:33:22] </span><span style=\"color: #008000\">INFO</span>     Animation <span style=\"color: #008000\">9</span> : Partial movie file        <a href=\"file://C:\\Users\\acer\\anaconda\\envs\\EnvEduardo\\lib\\site-packages\\manim\\scene\\scene_file_writer.py\"><span style=\"color: #7f7f7f\">scene_file_writer.py</span></a><span style=\"color: #7f7f7f\">:384</span>\n",
       "                             written in <span style=\"font-weight: bold\">{</span><span style=\"color: #008000\">'C:\\\\Users\\\\acer\\\\anaconda\\</span>                         \n",
       "                             <span style=\"color: #008000\">\\Notebook\\\\GitHub\\\\2D Heat </span>                                     \n",
       "                             <span style=\"color: #008000\">Conduction\\\\media\\\\videos\\\\2D Heat Cond</span>                         \n",
       "                             <span style=\"color: #008000\">uction\\\\1080p60\\\\partial_movie_files\\\\P</span>                         \n",
       "                             <span style=\"color: #008000\">ointMovingOnShapes\\\\2788726626_19044627</span>                         \n",
       "                             <span style=\"color: #008000\">99_3737189270.mp4'</span><span style=\"font-weight: bold\">}</span>                                             \n",
       "</pre>\n"
      ],
      "text/plain": [
       "<rich.jupyter.JupyterRenderable at 0x21e716ce748>"
      ]
     },
     "metadata": {},
     "output_type": "display_data"
    },
    {
     "name": "stderr",
     "output_type": "stream",
     "text": [
      "                                                                                                                       \r"
     ]
    },
    {
     "data": {
      "text/html": [
       "<pre style=\"white-space:pre;overflow-x:auto;line-height:normal;font-family:Menlo,'DejaVu Sans Mono',consolas,'Courier New',monospace\"><span style=\"color: #7fbfbf\">[03/24/21 18:33:24] </span><span style=\"color: #008000\">INFO</span>     Animation <span style=\"color: #008000\">10</span> : Partial movie file       <a href=\"file://C:\\Users\\acer\\anaconda\\envs\\EnvEduardo\\lib\\site-packages\\manim\\scene\\scene_file_writer.py\"><span style=\"color: #7f7f7f\">scene_file_writer.py</span></a><span style=\"color: #7f7f7f\">:384</span>\n",
       "                             written in <span style=\"font-weight: bold\">{</span><span style=\"color: #008000\">'C:\\\\Users\\\\acer\\\\anaconda\\</span>                         \n",
       "                             <span style=\"color: #008000\">\\Notebook\\\\GitHub\\\\2D Heat </span>                                     \n",
       "                             <span style=\"color: #008000\">Conduction\\\\media\\\\videos\\\\2D Heat Cond</span>                         \n",
       "                             <span style=\"color: #008000\">uction\\\\1080p60\\\\partial_movie_files\\\\P</span>                         \n",
       "                             <span style=\"color: #008000\">ointMovingOnShapes\\\\2788726626_34862406</span>                         \n",
       "                             <span style=\"color: #008000\">44_2389670762.mp4'</span><span style=\"font-weight: bold\">}</span>                                             \n",
       "</pre>\n"
      ],
      "text/plain": [
       "<rich.jupyter.JupyterRenderable at 0x21e74fd7668>"
      ]
     },
     "metadata": {},
     "output_type": "display_data"
    },
    {
     "name": "stderr",
     "output_type": "stream",
     "text": [
      "                                                                                                                       \r"
     ]
    },
    {
     "data": {
      "text/html": [
       "<pre style=\"white-space:pre;overflow-x:auto;line-height:normal;font-family:Menlo,'DejaVu Sans Mono',consolas,'Courier New',monospace\"><span style=\"color: #7fbfbf\">[03/24/21 18:33:25] </span><span style=\"color: #008000\">INFO</span>     Animation <span style=\"color: #008000\">11</span> : Partial movie file       <a href=\"file://C:\\Users\\acer\\anaconda\\envs\\EnvEduardo\\lib\\site-packages\\manim\\scene\\scene_file_writer.py\"><span style=\"color: #7f7f7f\">scene_file_writer.py</span></a><span style=\"color: #7f7f7f\">:384</span>\n",
       "                             written in <span style=\"font-weight: bold\">{</span><span style=\"color: #008000\">'C:\\\\Users\\\\acer\\\\anaconda\\</span>                         \n",
       "                             <span style=\"color: #008000\">\\Notebook\\\\GitHub\\\\2D Heat </span>                                     \n",
       "                             <span style=\"color: #008000\">Conduction\\\\media\\\\videos\\\\2D Heat Cond</span>                         \n",
       "                             <span style=\"color: #008000\">uction\\\\1080p60\\\\partial_movie_files\\\\P</span>                         \n",
       "                             <span style=\"color: #008000\">ointMovingOnShapes\\\\2788726626_76635439</span>                         \n",
       "                             <span style=\"color: #008000\">7_1390251661.mp4'</span><span style=\"font-weight: bold\">}</span>                                              \n",
       "</pre>\n"
      ],
      "text/plain": [
       "<rich.jupyter.JupyterRenderable at 0x21e74ebfdd8>"
      ]
     },
     "metadata": {},
     "output_type": "display_data"
    },
    {
     "name": "stderr",
     "output_type": "stream",
     "text": [
      "                                                                                                                       \r"
     ]
    },
    {
     "data": {
      "text/html": [
       "<pre style=\"white-space:pre;overflow-x:auto;line-height:normal;font-family:Menlo,'DejaVu Sans Mono',consolas,'Courier New',monospace\"><span style=\"color: #7fbfbf\">[03/24/21 18:33:27] </span><span style=\"color: #008000\">INFO</span>     Animation <span style=\"color: #008000\">12</span> : Partial movie file       <a href=\"file://C:\\Users\\acer\\anaconda\\envs\\EnvEduardo\\lib\\site-packages\\manim\\scene\\scene_file_writer.py\"><span style=\"color: #7f7f7f\">scene_file_writer.py</span></a><span style=\"color: #7f7f7f\">:384</span>\n",
       "                             written in <span style=\"font-weight: bold\">{</span><span style=\"color: #008000\">'C:\\\\Users\\\\acer\\\\anaconda\\</span>                         \n",
       "                             <span style=\"color: #008000\">\\Notebook\\\\GitHub\\\\2D Heat </span>                                     \n",
       "                             <span style=\"color: #008000\">Conduction\\\\media\\\\videos\\\\2D Heat Cond</span>                         \n",
       "                             <span style=\"color: #008000\">uction\\\\1080p60\\\\partial_movie_files\\\\P</span>                         \n",
       "                             <span style=\"color: #008000\">ointMovingOnShapes\\\\2788726626_28063200</span>                         \n",
       "                             <span style=\"color: #008000\">02_1842526823.mp4'</span><span style=\"font-weight: bold\">}</span>                                             \n",
       "</pre>\n"
      ],
      "text/plain": [
       "<rich.jupyter.JupyterRenderable at 0x21e75a11908>"
      ]
     },
     "metadata": {},
     "output_type": "display_data"
    },
    {
     "name": "stderr",
     "output_type": "stream",
     "text": [
      "                                                                                                                       \r"
     ]
    },
    {
     "data": {
      "text/html": [
       "<pre style=\"white-space:pre;overflow-x:auto;line-height:normal;font-family:Menlo,'DejaVu Sans Mono',consolas,'Courier New',monospace\"><span style=\"color: #7fbfbf\">[03/24/21 18:33:28] </span><span style=\"color: #008000\">INFO</span>     Animation <span style=\"color: #008000\">13</span> : Partial movie file       <a href=\"file://C:\\Users\\acer\\anaconda\\envs\\EnvEduardo\\lib\\site-packages\\manim\\scene\\scene_file_writer.py\"><span style=\"color: #7f7f7f\">scene_file_writer.py</span></a><span style=\"color: #7f7f7f\">:384</span>\n",
       "                             written in <span style=\"font-weight: bold\">{</span><span style=\"color: #008000\">'C:\\\\Users\\\\acer\\\\anaconda\\</span>                         \n",
       "                             <span style=\"color: #008000\">\\Notebook\\\\GitHub\\\\2D Heat </span>                                     \n",
       "                             <span style=\"color: #008000\">Conduction\\\\media\\\\videos\\\\2D Heat Cond</span>                         \n",
       "                             <span style=\"color: #008000\">uction\\\\1080p60\\\\partial_movie_files\\\\P</span>                         \n",
       "                             <span style=\"color: #008000\">ointMovingOnShapes\\\\2788726626_31887548</span>                         \n",
       "                             <span style=\"color: #008000\">51_4219273925.mp4'</span><span style=\"font-weight: bold\">}</span>                                             \n",
       "</pre>\n"
      ],
      "text/plain": [
       "<rich.jupyter.JupyterRenderable at 0x21e75e68a58>"
      ]
     },
     "metadata": {},
     "output_type": "display_data"
    },
    {
     "name": "stderr",
     "output_type": "stream",
     "text": [
      "                                                                                                                       \r"
     ]
    },
    {
     "data": {
      "text/html": [
       "<pre style=\"white-space:pre;overflow-x:auto;line-height:normal;font-family:Menlo,'DejaVu Sans Mono',consolas,'Courier New',monospace\"><span style=\"color: #7fbfbf\">[03/24/21 18:33:30] </span><span style=\"color: #008000\">INFO</span>     Animation <span style=\"color: #008000\">14</span> : Partial movie file       <a href=\"file://C:\\Users\\acer\\anaconda\\envs\\EnvEduardo\\lib\\site-packages\\manim\\scene\\scene_file_writer.py\"><span style=\"color: #7f7f7f\">scene_file_writer.py</span></a><span style=\"color: #7f7f7f\">:384</span>\n",
       "                             written in <span style=\"font-weight: bold\">{</span><span style=\"color: #008000\">'C:\\\\Users\\\\acer\\\\anaconda\\</span>                         \n",
       "                             <span style=\"color: #008000\">\\Notebook\\\\GitHub\\\\2D Heat </span>                                     \n",
       "                             <span style=\"color: #008000\">Conduction\\\\media\\\\videos\\\\2D Heat Cond</span>                         \n",
       "                             <span style=\"color: #008000\">uction\\\\1080p60\\\\partial_movie_files\\\\P</span>                         \n",
       "                             <span style=\"color: #008000\">ointMovingOnShapes\\\\2788726626_31035382</span>                         \n",
       "                             <span style=\"color: #008000\">91_1278791715.mp4'</span><span style=\"font-weight: bold\">}</span>                                             \n",
       "</pre>\n"
      ],
      "text/plain": [
       "<rich.jupyter.JupyterRenderable at 0x21e75275ac8>"
      ]
     },
     "metadata": {},
     "output_type": "display_data"
    },
    {
     "name": "stderr",
     "output_type": "stream",
     "text": [
      "                                                                                                                       \r"
     ]
    },
    {
     "data": {
      "text/html": [
       "<pre style=\"white-space:pre;overflow-x:auto;line-height:normal;font-family:Menlo,'DejaVu Sans Mono',consolas,'Courier New',monospace\"><span style=\"color: #7fbfbf\">[03/24/21 18:33:32] </span><span style=\"color: #008000\">INFO</span>     Animation <span style=\"color: #008000\">15</span> : Partial movie file       <a href=\"file://C:\\Users\\acer\\anaconda\\envs\\EnvEduardo\\lib\\site-packages\\manim\\scene\\scene_file_writer.py\"><span style=\"color: #7f7f7f\">scene_file_writer.py</span></a><span style=\"color: #7f7f7f\">:384</span>\n",
       "                             written in <span style=\"font-weight: bold\">{</span><span style=\"color: #008000\">'C:\\\\Users\\\\acer\\\\anaconda\\</span>                         \n",
       "                             <span style=\"color: #008000\">\\Notebook\\\\GitHub\\\\2D Heat </span>                                     \n",
       "                             <span style=\"color: #008000\">Conduction\\\\media\\\\videos\\\\2D Heat Cond</span>                         \n",
       "                             <span style=\"color: #008000\">uction\\\\1080p60\\\\partial_movie_files\\\\P</span>                         \n",
       "                             <span style=\"color: #008000\">ointMovingOnShapes\\\\2788726626_19357753</span>                         \n",
       "                             <span style=\"color: #008000\">05_1319622483.mp4'</span><span style=\"font-weight: bold\">}</span>                                             \n",
       "</pre>\n"
      ],
      "text/plain": [
       "<rich.jupyter.JupyterRenderable at 0x21e75a4acc0>"
      ]
     },
     "metadata": {},
     "output_type": "display_data"
    },
    {
     "name": "stderr",
     "output_type": "stream",
     "text": [
      "                                                                                                                       \r"
     ]
    },
    {
     "data": {
      "text/html": [
       "<pre style=\"white-space:pre;overflow-x:auto;line-height:normal;font-family:Menlo,'DejaVu Sans Mono',consolas,'Courier New',monospace\"><span style=\"color: #7fbfbf\">[03/24/21 18:33:33] </span><span style=\"color: #008000\">INFO</span>     Animation <span style=\"color: #008000\">16</span> : Partial movie file       <a href=\"file://C:\\Users\\acer\\anaconda\\envs\\EnvEduardo\\lib\\site-packages\\manim\\scene\\scene_file_writer.py\"><span style=\"color: #7f7f7f\">scene_file_writer.py</span></a><span style=\"color: #7f7f7f\">:384</span>\n",
       "                             written in <span style=\"font-weight: bold\">{</span><span style=\"color: #008000\">'C:\\\\Users\\\\acer\\\\anaconda\\</span>                         \n",
       "                             <span style=\"color: #008000\">\\Notebook\\\\GitHub\\\\2D Heat </span>                                     \n",
       "                             <span style=\"color: #008000\">Conduction\\\\media\\\\videos\\\\2D Heat Cond</span>                         \n",
       "                             <span style=\"color: #008000\">uction\\\\1080p60\\\\partial_movie_files\\\\P</span>                         \n",
       "                             <span style=\"color: #008000\">ointMovingOnShapes\\\\2788726626_95794686</span>                         \n",
       "                             <span style=\"color: #008000\">6_2911120194.mp4'</span><span style=\"font-weight: bold\">}</span>                                              \n",
       "</pre>\n"
      ],
      "text/plain": [
       "<rich.jupyter.JupyterRenderable at 0x21e6ec11048>"
      ]
     },
     "metadata": {},
     "output_type": "display_data"
    },
    {
     "name": "stderr",
     "output_type": "stream",
     "text": [
      "                                                                                                                       \r"
     ]
    },
    {
     "data": {
      "text/html": [
       "<pre style=\"white-space:pre;overflow-x:auto;line-height:normal;font-family:Menlo,'DejaVu Sans Mono',consolas,'Courier New',monospace\"><span style=\"color: #7fbfbf\">[03/24/21 18:33:35] </span><span style=\"color: #008000\">INFO</span>     Animation <span style=\"color: #008000\">17</span> : Partial movie file       <a href=\"file://C:\\Users\\acer\\anaconda\\envs\\EnvEduardo\\lib\\site-packages\\manim\\scene\\scene_file_writer.py\"><span style=\"color: #7f7f7f\">scene_file_writer.py</span></a><span style=\"color: #7f7f7f\">:384</span>\n",
       "                             written in <span style=\"font-weight: bold\">{</span><span style=\"color: #008000\">'C:\\\\Users\\\\acer\\\\anaconda\\</span>                         \n",
       "                             <span style=\"color: #008000\">\\Notebook\\\\GitHub\\\\2D Heat </span>                                     \n",
       "                             <span style=\"color: #008000\">Conduction\\\\media\\\\videos\\\\2D Heat Cond</span>                         \n",
       "                             <span style=\"color: #008000\">uction\\\\1080p60\\\\partial_movie_files\\\\P</span>                         \n",
       "                             <span style=\"color: #008000\">ointMovingOnShapes\\\\2788726626_21771707</span>                         \n",
       "                             <span style=\"color: #008000\">09_3238458088.mp4'</span><span style=\"font-weight: bold\">}</span>                                             \n",
       "</pre>\n"
      ],
      "text/plain": [
       "<rich.jupyter.JupyterRenderable at 0x21e7576e710>"
      ]
     },
     "metadata": {},
     "output_type": "display_data"
    },
    {
     "name": "stderr",
     "output_type": "stream",
     "text": [
      "                                                                                                                       \r"
     ]
    },
    {
     "data": {
      "text/html": [
       "<pre style=\"white-space:pre;overflow-x:auto;line-height:normal;font-family:Menlo,'DejaVu Sans Mono',consolas,'Courier New',monospace\"><span style=\"color: #7fbfbf\">[03/24/21 18:33:36] </span><span style=\"color: #008000\">INFO</span>     Animation <span style=\"color: #008000\">18</span> : Partial movie file       <a href=\"file://C:\\Users\\acer\\anaconda\\envs\\EnvEduardo\\lib\\site-packages\\manim\\scene\\scene_file_writer.py\"><span style=\"color: #7f7f7f\">scene_file_writer.py</span></a><span style=\"color: #7f7f7f\">:384</span>\n",
       "                             written in <span style=\"font-weight: bold\">{</span><span style=\"color: #008000\">'C:\\\\Users\\\\acer\\\\anaconda\\</span>                         \n",
       "                             <span style=\"color: #008000\">\\Notebook\\\\GitHub\\\\2D Heat </span>                                     \n",
       "                             <span style=\"color: #008000\">Conduction\\\\media\\\\videos\\\\2D Heat Cond</span>                         \n",
       "                             <span style=\"color: #008000\">uction\\\\1080p60\\\\partial_movie_files\\\\P</span>                         \n",
       "                             <span style=\"color: #008000\">ointMovingOnShapes\\\\2788726626_91064409</span>                         \n",
       "                             <span style=\"color: #008000\">7_2573740929.mp4'</span><span style=\"font-weight: bold\">}</span>                                              \n",
       "</pre>\n"
      ],
      "text/plain": [
       "<rich.jupyter.JupyterRenderable at 0x21e7194fbe0>"
      ]
     },
     "metadata": {},
     "output_type": "display_data"
    },
    {
     "name": "stderr",
     "output_type": "stream",
     "text": [
      "                                                                                                                       \r"
     ]
    },
    {
     "data": {
      "text/html": [
       "<pre style=\"white-space:pre;overflow-x:auto;line-height:normal;font-family:Menlo,'DejaVu Sans Mono',consolas,'Courier New',monospace\"><span style=\"color: #7fbfbf\">[03/24/21 18:33:38] </span><span style=\"color: #008000\">INFO</span>     Animation <span style=\"color: #008000\">19</span> : Partial movie file       <a href=\"file://C:\\Users\\acer\\anaconda\\envs\\EnvEduardo\\lib\\site-packages\\manim\\scene\\scene_file_writer.py\"><span style=\"color: #7f7f7f\">scene_file_writer.py</span></a><span style=\"color: #7f7f7f\">:384</span>\n",
       "                             written in <span style=\"font-weight: bold\">{</span><span style=\"color: #008000\">'C:\\\\Users\\\\acer\\\\anaconda\\</span>                         \n",
       "                             <span style=\"color: #008000\">\\Notebook\\\\GitHub\\\\2D Heat </span>                                     \n",
       "                             <span style=\"color: #008000\">Conduction\\\\media\\\\videos\\\\2D Heat Cond</span>                         \n",
       "                             <span style=\"color: #008000\">uction\\\\1080p60\\\\partial_movie_files\\\\P</span>                         \n",
       "                             <span style=\"color: #008000\">ointMovingOnShapes\\\\2788726626_27668206</span>                         \n",
       "                             <span style=\"color: #008000\">42_3137334188.mp4'</span><span style=\"font-weight: bold\">}</span>                                             \n",
       "</pre>\n"
      ],
      "text/plain": [
       "<rich.jupyter.JupyterRenderable at 0x21e758ea5f8>"
      ]
     },
     "metadata": {},
     "output_type": "display_data"
    },
    {
     "name": "stderr",
     "output_type": "stream",
     "text": [
      "                                                                                                                       \r"
     ]
    },
    {
     "data": {
      "text/html": [
       "<pre style=\"white-space:pre;overflow-x:auto;line-height:normal;font-family:Menlo,'DejaVu Sans Mono',consolas,'Courier New',monospace\"><span style=\"color: #7fbfbf\">[03/24/21 18:33:40] </span><span style=\"color: #008000\">INFO</span>     Animation <span style=\"color: #008000\">20</span> : Partial movie file       <a href=\"file://C:\\Users\\acer\\anaconda\\envs\\EnvEduardo\\lib\\site-packages\\manim\\scene\\scene_file_writer.py\"><span style=\"color: #7f7f7f\">scene_file_writer.py</span></a><span style=\"color: #7f7f7f\">:384</span>\n",
       "                             written in <span style=\"font-weight: bold\">{</span><span style=\"color: #008000\">'C:\\\\Users\\\\acer\\\\anaconda\\</span>                         \n",
       "                             <span style=\"color: #008000\">\\Notebook\\\\GitHub\\\\2D Heat </span>                                     \n",
       "                             <span style=\"color: #008000\">Conduction\\\\media\\\\videos\\\\2D Heat Cond</span>                         \n",
       "                             <span style=\"color: #008000\">uction\\\\1080p60\\\\partial_movie_files\\\\P</span>                         \n",
       "                             <span style=\"color: #008000\">ointMovingOnShapes\\\\2788726626_28339111</span>                         \n",
       "                             <span style=\"color: #008000\">14_873555546.mp4'</span><span style=\"font-weight: bold\">}</span>                                              \n",
       "</pre>\n"
      ],
      "text/plain": [
       "<rich.jupyter.JupyterRenderable at 0x21e747e7f98>"
      ]
     },
     "metadata": {},
     "output_type": "display_data"
    },
    {
     "name": "stderr",
     "output_type": "stream",
     "text": [
      "                                                                                                                       \r"
     ]
    },
    {
     "data": {
      "text/html": [
       "<pre style=\"white-space:pre;overflow-x:auto;line-height:normal;font-family:Menlo,'DejaVu Sans Mono',consolas,'Courier New',monospace\"><span style=\"color: #7fbfbf\">[03/24/21 18:33:42] </span><span style=\"color: #008000\">INFO</span>     Animation <span style=\"color: #008000\">21</span> : Partial movie file       <a href=\"file://C:\\Users\\acer\\anaconda\\envs\\EnvEduardo\\lib\\site-packages\\manim\\scene\\scene_file_writer.py\"><span style=\"color: #7f7f7f\">scene_file_writer.py</span></a><span style=\"color: #7f7f7f\">:384</span>\n",
       "                             written in <span style=\"font-weight: bold\">{</span><span style=\"color: #008000\">'C:\\\\Users\\\\acer\\\\anaconda\\</span>                         \n",
       "                             <span style=\"color: #008000\">\\Notebook\\\\GitHub\\\\2D Heat </span>                                     \n",
       "                             <span style=\"color: #008000\">Conduction\\\\media\\\\videos\\\\2D Heat Cond</span>                         \n",
       "                             <span style=\"color: #008000\">uction\\\\1080p60\\\\partial_movie_files\\\\P</span>                         \n",
       "                             <span style=\"color: #008000\">ointMovingOnShapes\\\\2788726626_11641442</span>                         \n",
       "                             <span style=\"color: #008000\">35_270311301.mp4'</span><span style=\"font-weight: bold\">}</span>                                              \n",
       "</pre>\n"
      ],
      "text/plain": [
       "<rich.jupyter.JupyterRenderable at 0x21e75e23a20>"
      ]
     },
     "metadata": {},
     "output_type": "display_data"
    },
    {
     "name": "stderr",
     "output_type": "stream",
     "text": [
      "                                                                                                                       \r"
     ]
    },
    {
     "data": {
      "text/html": [
       "<pre style=\"white-space:pre;overflow-x:auto;line-height:normal;font-family:Menlo,'DejaVu Sans Mono',consolas,'Courier New',monospace\"><span style=\"color: #7fbfbf\">[03/24/21 18:33:43] </span><span style=\"color: #008000\">INFO</span>     Animation <span style=\"color: #008000\">22</span> : Partial movie file       <a href=\"file://C:\\Users\\acer\\anaconda\\envs\\EnvEduardo\\lib\\site-packages\\manim\\scene\\scene_file_writer.py\"><span style=\"color: #7f7f7f\">scene_file_writer.py</span></a><span style=\"color: #7f7f7f\">:384</span>\n",
       "                             written in <span style=\"font-weight: bold\">{</span><span style=\"color: #008000\">'C:\\\\Users\\\\acer\\\\anaconda\\</span>                         \n",
       "                             <span style=\"color: #008000\">\\Notebook\\\\GitHub\\\\2D Heat </span>                                     \n",
       "                             <span style=\"color: #008000\">Conduction\\\\media\\\\videos\\\\2D Heat Cond</span>                         \n",
       "                             <span style=\"color: #008000\">uction\\\\1080p60\\\\partial_movie_files\\\\P</span>                         \n",
       "                             <span style=\"color: #008000\">ointMovingOnShapes\\\\2788726626_17697193</span>                         \n",
       "                             <span style=\"color: #008000\">48_610163661.mp4'</span><span style=\"font-weight: bold\">}</span>                                              \n",
       "</pre>\n"
      ],
      "text/plain": [
       "<rich.jupyter.JupyterRenderable at 0x21e75275550>"
      ]
     },
     "metadata": {},
     "output_type": "display_data"
    },
    {
     "name": "stderr",
     "output_type": "stream",
     "text": [
      "                                                                                                                       \r"
     ]
    },
    {
     "data": {
      "text/html": [
       "<pre style=\"white-space:pre;overflow-x:auto;line-height:normal;font-family:Menlo,'DejaVu Sans Mono',consolas,'Courier New',monospace\"><span style=\"color: #7fbfbf\">[03/24/21 18:33:45] </span><span style=\"color: #008000\">INFO</span>     Animation <span style=\"color: #008000\">23</span> : Partial movie file       <a href=\"file://C:\\Users\\acer\\anaconda\\envs\\EnvEduardo\\lib\\site-packages\\manim\\scene\\scene_file_writer.py\"><span style=\"color: #7f7f7f\">scene_file_writer.py</span></a><span style=\"color: #7f7f7f\">:384</span>\n",
       "                             written in <span style=\"font-weight: bold\">{</span><span style=\"color: #008000\">'C:\\\\Users\\\\acer\\\\anaconda\\</span>                         \n",
       "                             <span style=\"color: #008000\">\\Notebook\\\\GitHub\\\\2D Heat </span>                                     \n",
       "                             <span style=\"color: #008000\">Conduction\\\\media\\\\videos\\\\2D Heat Cond</span>                         \n",
       "                             <span style=\"color: #008000\">uction\\\\1080p60\\\\partial_movie_files\\\\P</span>                         \n",
       "                             <span style=\"color: #008000\">ointMovingOnShapes\\\\2788726626_26907525</span>                         \n",
       "                             <span style=\"color: #008000\">91_1599185314.mp4'</span><span style=\"font-weight: bold\">}</span>                                             \n",
       "</pre>\n"
      ],
      "text/plain": [
       "<rich.jupyter.JupyterRenderable at 0x21e7538d588>"
      ]
     },
     "metadata": {},
     "output_type": "display_data"
    },
    {
     "name": "stderr",
     "output_type": "stream",
     "text": [
      "                                                                                                                       \r"
     ]
    },
    {
     "data": {
      "text/html": [
       "<pre style=\"white-space:pre;overflow-x:auto;line-height:normal;font-family:Menlo,'DejaVu Sans Mono',consolas,'Courier New',monospace\"><span style=\"color: #7fbfbf\">[03/24/21 18:33:47] </span><span style=\"color: #008000\">INFO</span>     Animation <span style=\"color: #008000\">24</span> : Partial movie file       <a href=\"file://C:\\Users\\acer\\anaconda\\envs\\EnvEduardo\\lib\\site-packages\\manim\\scene\\scene_file_writer.py\"><span style=\"color: #7f7f7f\">scene_file_writer.py</span></a><span style=\"color: #7f7f7f\">:384</span>\n",
       "                             written in <span style=\"font-weight: bold\">{</span><span style=\"color: #008000\">'C:\\\\Users\\\\acer\\\\anaconda\\</span>                         \n",
       "                             <span style=\"color: #008000\">\\Notebook\\\\GitHub\\\\2D Heat </span>                                     \n",
       "                             <span style=\"color: #008000\">Conduction\\\\media\\\\videos\\\\2D Heat Cond</span>                         \n",
       "                             <span style=\"color: #008000\">uction\\\\1080p60\\\\partial_movie_files\\\\P</span>                         \n",
       "                             <span style=\"color: #008000\">ointMovingOnShapes\\\\2788726626_37627672</span>                         \n",
       "                             <span style=\"color: #008000\">78_340087392.mp4'</span><span style=\"font-weight: bold\">}</span>                                              \n",
       "</pre>\n"
      ],
      "text/plain": [
       "<rich.jupyter.JupyterRenderable at 0x21e75a11978>"
      ]
     },
     "metadata": {},
     "output_type": "display_data"
    },
    {
     "name": "stderr",
     "output_type": "stream",
     "text": [
      "                                                                                                                       \r"
     ]
    },
    {
     "data": {
      "text/html": [
       "<pre style=\"white-space:pre;overflow-x:auto;line-height:normal;font-family:Menlo,'DejaVu Sans Mono',consolas,'Courier New',monospace\"><span style=\"color: #7fbfbf\">[03/24/21 18:33:49] </span><span style=\"color: #008000\">INFO</span>     Animation <span style=\"color: #008000\">25</span> : Partial movie file       <a href=\"file://C:\\Users\\acer\\anaconda\\envs\\EnvEduardo\\lib\\site-packages\\manim\\scene\\scene_file_writer.py\"><span style=\"color: #7f7f7f\">scene_file_writer.py</span></a><span style=\"color: #7f7f7f\">:384</span>\n",
       "                             written in <span style=\"font-weight: bold\">{</span><span style=\"color: #008000\">'C:\\\\Users\\\\acer\\\\anaconda\\</span>                         \n",
       "                             <span style=\"color: #008000\">\\Notebook\\\\GitHub\\\\2D Heat </span>                                     \n",
       "                             <span style=\"color: #008000\">Conduction\\\\media\\\\videos\\\\2D Heat Cond</span>                         \n",
       "                             <span style=\"color: #008000\">uction\\\\1080p60\\\\partial_movie_files\\\\P</span>                         \n",
       "                             <span style=\"color: #008000\">ointMovingOnShapes\\\\2788726626_26868790</span>                         \n",
       "                             <span style=\"color: #008000\">19_505666791.mp4'</span><span style=\"font-weight: bold\">}</span>                                              \n",
       "</pre>\n"
      ],
      "text/plain": [
       "<rich.jupyter.JupyterRenderable at 0x21e75a3fef0>"
      ]
     },
     "metadata": {},
     "output_type": "display_data"
    },
    {
     "name": "stderr",
     "output_type": "stream",
     "text": [
      "                                                                                                                       \r"
     ]
    },
    {
     "data": {
      "text/html": [
       "<pre style=\"white-space:pre;overflow-x:auto;line-height:normal;font-family:Menlo,'DejaVu Sans Mono',consolas,'Courier New',monospace\"><span style=\"color: #7fbfbf\">[03/24/21 18:33:50] </span><span style=\"color: #008000\">INFO</span>     Animation <span style=\"color: #008000\">26</span> : Partial movie file       <a href=\"file://C:\\Users\\acer\\anaconda\\envs\\EnvEduardo\\lib\\site-packages\\manim\\scene\\scene_file_writer.py\"><span style=\"color: #7f7f7f\">scene_file_writer.py</span></a><span style=\"color: #7f7f7f\">:384</span>\n",
       "                             written in <span style=\"font-weight: bold\">{</span><span style=\"color: #008000\">'C:\\\\Users\\\\acer\\\\anaconda\\</span>                         \n",
       "                             <span style=\"color: #008000\">\\Notebook\\\\GitHub\\\\2D Heat </span>                                     \n",
       "                             <span style=\"color: #008000\">Conduction\\\\media\\\\videos\\\\2D Heat Cond</span>                         \n",
       "                             <span style=\"color: #008000\">uction\\\\1080p60\\\\partial_movie_files\\\\P</span>                         \n",
       "                             <span style=\"color: #008000\">ointMovingOnShapes\\\\2788726626_23872376</span>                         \n",
       "                             <span style=\"color: #008000\">41_1621345093.mp4'</span><span style=\"font-weight: bold\">}</span>                                             \n",
       "</pre>\n"
      ],
      "text/plain": [
       "<rich.jupyter.JupyterRenderable at 0x21e7168bb00>"
      ]
     },
     "metadata": {},
     "output_type": "display_data"
    },
    {
     "name": "stderr",
     "output_type": "stream",
     "text": [
      "                                                                                                                       \r"
     ]
    },
    {
     "data": {
      "text/html": [
       "<pre style=\"white-space:pre;overflow-x:auto;line-height:normal;font-family:Menlo,'DejaVu Sans Mono',consolas,'Courier New',monospace\"><span style=\"color: #7fbfbf\">[03/24/21 18:33:52] </span><span style=\"color: #008000\">INFO</span>     Animation <span style=\"color: #008000\">27</span> : Partial movie file       <a href=\"file://C:\\Users\\acer\\anaconda\\envs\\EnvEduardo\\lib\\site-packages\\manim\\scene\\scene_file_writer.py\"><span style=\"color: #7f7f7f\">scene_file_writer.py</span></a><span style=\"color: #7f7f7f\">:384</span>\n",
       "                             written in <span style=\"font-weight: bold\">{</span><span style=\"color: #008000\">'C:\\\\Users\\\\acer\\\\anaconda\\</span>                         \n",
       "                             <span style=\"color: #008000\">\\Notebook\\\\GitHub\\\\2D Heat </span>                                     \n",
       "                             <span style=\"color: #008000\">Conduction\\\\media\\\\videos\\\\2D Heat Cond</span>                         \n",
       "                             <span style=\"color: #008000\">uction\\\\1080p60\\\\partial_movie_files\\\\P</span>                         \n",
       "                             <span style=\"color: #008000\">ointMovingOnShapes\\\\2788726626_34841757</span>                         \n",
       "                             <span style=\"color: #008000\">35_3633434378.mp4'</span><span style=\"font-weight: bold\">}</span>                                             \n",
       "</pre>\n"
      ],
      "text/plain": [
       "<rich.jupyter.JupyterRenderable at 0x21e716cc390>"
      ]
     },
     "metadata": {},
     "output_type": "display_data"
    },
    {
     "name": "stderr",
     "output_type": "stream",
     "text": [
      "                                                                                                                       \r"
     ]
    },
    {
     "data": {
      "text/html": [
       "<pre style=\"white-space:pre;overflow-x:auto;line-height:normal;font-family:Menlo,'DejaVu Sans Mono',consolas,'Courier New',monospace\"><span style=\"color: #7fbfbf\">[03/24/21 18:33:54] </span><span style=\"color: #008000\">INFO</span>     Animation <span style=\"color: #008000\">28</span> : Partial movie file       <a href=\"file://C:\\Users\\acer\\anaconda\\envs\\EnvEduardo\\lib\\site-packages\\manim\\scene\\scene_file_writer.py\"><span style=\"color: #7f7f7f\">scene_file_writer.py</span></a><span style=\"color: #7f7f7f\">:384</span>\n",
       "                             written in <span style=\"font-weight: bold\">{</span><span style=\"color: #008000\">'C:\\\\Users\\\\acer\\\\anaconda\\</span>                         \n",
       "                             <span style=\"color: #008000\">\\Notebook\\\\GitHub\\\\2D Heat </span>                                     \n",
       "                             <span style=\"color: #008000\">Conduction\\\\media\\\\videos\\\\2D Heat Cond</span>                         \n",
       "                             <span style=\"color: #008000\">uction\\\\1080p60\\\\partial_movie_files\\\\P</span>                         \n",
       "                             <span style=\"color: #008000\">ointMovingOnShapes\\\\2788726626_14032331</span>                         \n",
       "                             <span style=\"color: #008000\">94_651883028.mp4'</span><span style=\"font-weight: bold\">}</span>                                              \n",
       "</pre>\n"
      ],
      "text/plain": [
       "<rich.jupyter.JupyterRenderable at 0x21e72586e80>"
      ]
     },
     "metadata": {},
     "output_type": "display_data"
    },
    {
     "data": {
      "text/html": [
       "<pre style=\"white-space:pre;overflow-x:auto;line-height:normal;font-family:Menlo,'DejaVu Sans Mono',consolas,'Courier New',monospace\"><span style=\"color: #7fbfbf\">[03/24/21 18:33:55] </span><span style=\"color: #008000\">INFO</span>                                             <a href=\"file://C:\\Users\\acer\\anaconda\\envs\\EnvEduardo\\lib\\site-packages\\manim\\scene\\scene_file_writer.py\"><span style=\"color: #7f7f7f\">scene_file_writer.py</span></a><span style=\"color: #7f7f7f\">:563</span>\n",
       "                             <span style=\"color: #808000; font-weight: bold\">File</span> ready at C:\\Users\\acer\\anaconda\\No                         \n",
       "                             tebook\\GitHub\\2D Heat                                           \n",
       "                             Conduction\\media\\videos\\2D Heat Conduct                         \n",
       "                             ion\\1080p60\\PointMovingOnShapes.mp4                             \n",
       "                                                                                             \n",
       "</pre>\n"
      ],
      "text/plain": [
       "<rich.jupyter.JupyterRenderable at 0x21e75f3df98>"
      ]
     },
     "metadata": {},
     "output_type": "display_data"
    },
    {
     "data": {
      "text/html": [
       "<pre style=\"white-space:pre;overflow-x:auto;line-height:normal;font-family:Menlo,'DejaVu Sans Mono',consolas,'Courier New',monospace\"><span style=\"color: #7fbfbf\">                    </span><span style=\"color: #008000\">INFO</span>     <span style=\"color: #808000; font-weight: bold\">Rendered</span> PointMovingOnShapes                        <a href=\"file://C:\\Users\\acer\\anaconda\\envs\\EnvEduardo\\lib\\site-packages\\manim\\scene\\scene.py\"><span style=\"color: #7f7f7f\">scene.py</span></a><span style=\"color: #7f7f7f\">:176</span>\n",
       "                             <span style=\"color: #808000; font-weight: bold\">Played</span> <span style=\"color: #008000\">29</span> <span style=\"color: #808000; font-weight: bold\">animations</span>                                            \n",
       "</pre>\n"
      ],
      "text/plain": [
       "<rich.jupyter.JupyterRenderable at 0x21e75e48f60>"
      ]
     },
     "metadata": {},
     "output_type": "display_data"
    },
    {
     "data": {
      "text/html": [
       "<video src=\"media\\jupyter\\5a8de19aa7d3fbfada21cca1900c3c9797ae3c9a.mp4\" controls autoplay loop style=\"max-width: 100%;\"  >\n",
       "      Your browser does not support the <code>video</code> element.\n",
       "    </video>"
      ],
      "text/plain": [
       "<IPython.core.display.Video object>"
      ]
     },
     "metadata": {},
     "output_type": "display_data"
    }
   ],
   "source": [
    "%%manim PointMovingOnShapes\n",
    "\n",
    "\n",
    "class PointMovingOnShapes(Scene):\n",
    "    def construct(self):\n",
    "        \n",
    "        square = Square(side_length=5,color=RED,fill_opacity=0.5)\n",
    "        self.play(GrowFromCenter(square))\n",
    "        BND1 = MathTex(\"T_{A}\")\n",
    "        BND2 = MathTex(\"T_{B}\")\n",
    "        BND3 = MathTex(\"T_{C}\")\n",
    "        BND4 = MathTex(\"T_{D}\")\n",
    "        \n",
    "        BND1.next_to(square,UP)\n",
    "        BND2.next_to(square)\n",
    "        BND3.next_to(square,DOWN)\n",
    "        BND4.next_to(square,2*LEFT)\n",
    "        \n",
    "        \n",
    "        linev1 = Line([-1.25,-2.5,0],[-1.25,2.5,0])\n",
    "        linev2 = Line([0,-2.5,0],[0,2.5,0])\n",
    "        linev3 = Line([1.25,-2.5,0],[1.25,2.5,0])\n",
    "        \n",
    "        \n",
    "        lineh1 = Line([-2.5,3.75-2.5,0],[2.5,3.75-2.5,0])\n",
    "        lineh2 = Line([-2.5,2.5-2.5,0],[2.5,2.5-2.5,0])\n",
    "        lineh3 = Line([-2.5,1.25-2.5,0],[2.5,1.25-2.5,0])\n",
    "        \n",
    "        self.play(FadeInFrom(lineh1,LEFT),run_time=0.5)\n",
    "       \n",
    "        self.play(FadeInFrom(lineh2,LEFT),run_time=0.5)\n",
    " \n",
    "        self.play(FadeInFrom(lineh3,LEFT),run_time=0.5)\n",
    "  \n",
    "        self.play(FadeInFrom(linev1,UP),run_time=0.5)\n",
    "        \n",
    "        self.play(FadeInFrom(linev2,UP),run_time=0.5)\n",
    "\n",
    "        self.play(FadeInFrom(linev3,UP),run_time=0.5)\n",
    "        \n",
    "        self.play(FadeIn(BND1),run_time=0.5)\n",
    "        self.play(FadeIn(BND2),run_time=0.5)\n",
    "        self.play(FadeIn(BND3),run_time=0.5)\n",
    "        self.play(FadeIn(BND4),run_time=0.5)\n",
    "    \n",
    "        \n",
    "        for c1,i in enumerate(np.linspace(3.75,1.25,3)):\n",
    "            for c2,j in enumerate(np.linspace(1.25,3.75,3)):\n",
    "                \n",
    "                dot = Dot(point=(j-2.5,i-2.5,0)).set_color(DARK_BLUE)\n",
    "                text = MathTex(\"T_{\",str(c1+1),\",\",str(c2+1),\"}\",height=0.35).next_to(dot,UP*0.5+RIGHT*.5)\n",
    "                \n",
    "                self.play(FadeInFrom(dot,LEFT),run_time=0.5)\n",
    "                self.play(FadeInFrom(text,LEFT),run_time=0.5)\n",
    "\n",
    "                \n"
   ]
  },
  {
   "cell_type": "code",
   "execution_count": 9,
   "metadata": {},
   "outputs": [
    {
     "name": "stderr",
     "output_type": "stream",
     "text": [
      "                                                                                                                       \r"
     ]
    },
    {
     "data": {
      "text/html": [
       "<pre style=\"white-space:pre;overflow-x:auto;line-height:normal;font-family:Menlo,'DejaVu Sans Mono',consolas,'Courier New',monospace\"><span style=\"color: #7fbfbf\">[03/24/21 18:42:07] </span><span style=\"color: #008000\">INFO</span>     Animation <span style=\"color: #008000\">0</span> : Partial movie file        <a href=\"file://C:\\Users\\acer\\anaconda\\envs\\EnvEduardo\\lib\\site-packages\\manim\\scene\\scene_file_writer.py\"><span style=\"color: #7f7f7f\">scene_file_writer.py</span></a><span style=\"color: #7f7f7f\">:384</span>\n",
       "                             written in <span style=\"font-weight: bold\">{</span><span style=\"color: #008000\">'C:\\\\Users\\\\acer\\\\anaconda\\</span>                         \n",
       "                             <span style=\"color: #008000\">\\Notebook\\\\GitHub\\\\2D Heat </span>                                     \n",
       "                             <span style=\"color: #008000\">Conduction\\\\media\\\\videos\\\\2D Heat Cond</span>                         \n",
       "                             <span style=\"color: #008000\">uction\\\\1080p60\\\\partial_movie_files\\\\P</span>                         \n",
       "                             <span style=\"color: #008000\">ointMovingOnShapes2\\\\450974505_39510640</span>                         \n",
       "                             <span style=\"color: #008000\">60_1066657768.mp4'</span><span style=\"font-weight: bold\">}</span>                                             \n",
       "</pre>\n"
      ],
      "text/plain": [
       "<rich.jupyter.JupyterRenderable at 0x21e75f40e80>"
      ]
     },
     "metadata": {},
     "output_type": "display_data"
    },
    {
     "name": "stderr",
     "output_type": "stream",
     "text": [
      "                                                                                                                       \r"
     ]
    },
    {
     "data": {
      "text/html": [
       "<pre style=\"white-space:pre;overflow-x:auto;line-height:normal;font-family:Menlo,'DejaVu Sans Mono',consolas,'Courier New',monospace\"><span style=\"color: #7fbfbf\">[03/24/21 18:42:10] </span><span style=\"color: #008000\">INFO</span>     Animation <span style=\"color: #008000\">1</span> : Partial movie file        <a href=\"file://C:\\Users\\acer\\anaconda\\envs\\EnvEduardo\\lib\\site-packages\\manim\\scene\\scene_file_writer.py\"><span style=\"color: #7f7f7f\">scene_file_writer.py</span></a><span style=\"color: #7f7f7f\">:384</span>\n",
       "                             written in <span style=\"font-weight: bold\">{</span><span style=\"color: #008000\">'C:\\\\Users\\\\acer\\\\anaconda\\</span>                         \n",
       "                             <span style=\"color: #008000\">\\Notebook\\\\GitHub\\\\2D Heat </span>                                     \n",
       "                             <span style=\"color: #008000\">Conduction\\\\media\\\\videos\\\\2D Heat Cond</span>                         \n",
       "                             <span style=\"color: #008000\">uction\\\\1080p60\\\\partial_movie_files\\\\P</span>                         \n",
       "                             <span style=\"color: #008000\">ointMovingOnShapes2\\\\2788726626_3928999</span>                         \n",
       "                             <span style=\"color: #008000\">765_139838668.mp4'</span><span style=\"font-weight: bold\">}</span>                                             \n",
       "</pre>\n"
      ],
      "text/plain": [
       "<rich.jupyter.JupyterRenderable at 0x21e71f23048>"
      ]
     },
     "metadata": {},
     "output_type": "display_data"
    },
    {
     "data": {
      "text/html": [
       "<pre style=\"white-space:pre;overflow-x:auto;line-height:normal;font-family:Menlo,'DejaVu Sans Mono',consolas,'Courier New',monospace\"><span style=\"color: #7fbfbf\">                    </span><span style=\"color: #008000\">INFO</span>                                             <a href=\"file://C:\\Users\\acer\\anaconda\\envs\\EnvEduardo\\lib\\site-packages\\manim\\scene\\scene_file_writer.py\"><span style=\"color: #7f7f7f\">scene_file_writer.py</span></a><span style=\"color: #7f7f7f\">:563</span>\n",
       "                             <span style=\"color: #808000; font-weight: bold\">File</span> ready at C:\\Users\\acer\\anaconda\\No                         \n",
       "                             tebook\\GitHub\\2D Heat                                           \n",
       "                             Conduction\\media\\videos\\2D Heat Conduct                         \n",
       "                             ion\\1080p60\\PointMovingOnShapes2.mp4                            \n",
       "                                                                                             \n",
       "</pre>\n"
      ],
      "text/plain": [
       "<rich.jupyter.JupyterRenderable at 0x21e71f23048>"
      ]
     },
     "metadata": {},
     "output_type": "display_data"
    },
    {
     "data": {
      "text/html": [
       "<pre style=\"white-space:pre;overflow-x:auto;line-height:normal;font-family:Menlo,'DejaVu Sans Mono',consolas,'Courier New',monospace\"><span style=\"color: #7fbfbf\">                    </span><span style=\"color: #008000\">INFO</span>     <span style=\"color: #808000; font-weight: bold\">Rendered</span> PointMovingOnShapes2                       <a href=\"file://C:\\Users\\acer\\anaconda\\envs\\EnvEduardo\\lib\\site-packages\\manim\\scene\\scene.py\"><span style=\"color: #7f7f7f\">scene.py</span></a><span style=\"color: #7f7f7f\">:176</span>\n",
       "                             <span style=\"color: #808000; font-weight: bold\">Played</span> <span style=\"color: #008000\">2</span> <span style=\"color: #808000; font-weight: bold\">animations</span>                                             \n",
       "</pre>\n"
      ],
      "text/plain": [
       "<rich.jupyter.JupyterRenderable at 0x21e71f23048>"
      ]
     },
     "metadata": {},
     "output_type": "display_data"
    },
    {
     "data": {
      "text/html": [
       "<video src=\"media\\jupyter\\c084148923e73dbd2c82fe6aab53def1ea6b9d57.mp4\" controls autoplay loop style=\"max-width: 100%;\"  >\n",
       "      Your browser does not support the <code>video</code> element.\n",
       "    </video>"
      ],
      "text/plain": [
       "<IPython.core.display.Video object>"
      ]
     },
     "metadata": {},
     "output_type": "display_data"
    }
   ],
   "source": [
    "%%manim PointMovingOnShapes2\n",
    "\n",
    "class PointMovingOnShapes2(Scene):\n",
    "    def construct(self):\n",
    "        \n",
    "        np1 = 3\n",
    "        np2 = 5\n",
    "        \n",
    "        delta1 = 1/(np1+1)\n",
    "        delta2 = 1/(np2+1)\n",
    "        \n",
    "        square1 = Square(side_length=1,color=RED,fill_opacity=0.5)\n",
    "        square2 = Square(side_length=1,color=RED,fill_opacity=0.5)\n",
    "        \n",
    "        square2.move_to(2*RIGHT)\n",
    "        \n",
    "        sq1_origin = [-0.5,-0.5,0]\n",
    "        sq2_origin = [2,2,0]\n",
    "        \n",
    "        self.play(GrowFromCenter(square1))\n",
    "        self.play(GrowFromCenter(square2))\n"
   ]
  }
 ],
 "metadata": {
  "hide_input": false,
  "kernelspec": {
   "display_name": "Python 3",
   "language": "python",
   "name": "python3"
  },
  "language_info": {
   "codemirror_mode": {
    "name": "ipython",
    "version": 3
   },
   "file_extension": ".py",
   "mimetype": "text/x-python",
   "name": "python",
   "nbconvert_exporter": "python",
   "pygments_lexer": "ipython3",
   "version": "3.6.10"
  },
  "varInspector": {
   "cols": {
    "lenName": 16,
    "lenType": 16,
    "lenVar": 40
   },
   "kernels_config": {
    "python": {
     "delete_cmd_postfix": "",
     "delete_cmd_prefix": "del ",
     "library": "var_list.py",
     "varRefreshCmd": "print(var_dic_list())"
    },
    "r": {
     "delete_cmd_postfix": ") ",
     "delete_cmd_prefix": "rm(",
     "library": "var_list.r",
     "varRefreshCmd": "cat(var_dic_list()) "
    }
   },
   "types_to_exclude": [
    "module",
    "function",
    "builtin_function_or_method",
    "instance",
    "_Feature"
   ],
   "window_display": false
  }
 },
 "nbformat": 4,
 "nbformat_minor": 4
}
